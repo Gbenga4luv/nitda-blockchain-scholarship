{
  "nbformat": 4,
  "nbformat_minor": 0,
  "metadata": {
    "colab": {
      "provenance": [],
      "authorship_tag": "ABX9TyNu9HH76xk6/8ztDfjF5PLk",
      "include_colab_link": true
    },
    "kernelspec": {
      "name": "python3",
      "display_name": "Python 3"
    },
    "language_info": {
      "name": "python"
    }
  },
  "cells": [
    {
      "cell_type": "markdown",
      "metadata": {
        "id": "view-in-github",
        "colab_type": "text"
      },
      "source": [
        "<a href=\"https://colab.research.google.com/github/Gbenga4luv/nitda-blockchain-scholarship/blob/main/Untitled7.ipynb\" target=\"_parent\"><img src=\"https://colab.research.google.com/assets/colab-badge.svg\" alt=\"Open In Colab\"/></a>"
      ]
    },
    {
      "cell_type": "code",
      "execution_count": 4,
      "metadata": {
        "id": "hO7OCaMKRWBP"
      },
      "outputs": [],
      "source": [
        "import numpy as np\n",
        "import pandas as pd\n",
        "import matplotlib.pyplot as plt\n",
        "import string"
      ]
    },
    {
      "cell_type": "code",
      "source": [
        "letters = string.ascii_uppercase"
      ],
      "metadata": {
        "id": "fldI9H1iSvYP"
      },
      "execution_count": 123,
      "outputs": []
    },
    {
      "cell_type": "code",
      "source": [
        "np.random.seed(1)\n",
        "x = np.random.choice(list(set(letters) - set(\"T\")), size=(100, 26), replace=True)\n",
        "x[np.random.randint(100), np.random.randint(26)] = \"T\""
      ],
      "metadata": {
        "id": "1dhuYheQRnwY"
      },
      "execution_count": 72,
      "outputs": []
    },
    {
      "cell_type": "code",
      "source": [
        "print(x)\n",
        "x.shape"
      ],
      "metadata": {
        "colab": {
          "base_uri": "https://localhost:8080/"
        },
        "id": "tmjZlhv8S9Ba",
        "outputId": "83191649-daa0-4fa5-f410-bbc6348700e9"
      },
      "execution_count": 73,
      "outputs": [
        {
          "output_type": "stream",
          "name": "stdout",
          "text": [
            "[['F' 'O' 'U' ... 'K' 'L' 'Z']\n",
            " ['Z' 'D' 'A' ... 'C' 'W' 'A']\n",
            " ['B' 'L' 'P' ... 'V' 'Z' 'L']\n",
            " ...\n",
            " ['K' 'L' 'O' ... 'N' 'H' 'G']\n",
            " ['R' 'F' 'I' ... 'H' 'B' 'Z']\n",
            " ['J' 'A' 'D' ... 'X' 'P' 'D']]\n"
          ]
        },
        {
          "output_type": "execute_result",
          "data": {
            "text/plain": [
              "(100, 26)"
            ]
          },
          "metadata": {},
          "execution_count": 73
        }
      ]
    },
    {
      "cell_type": "code",
      "source": [],
      "metadata": {
        "colab": {
          "base_uri": "https://localhost:8080/"
        },
        "id": "GB8_8nIQUrUn",
        "outputId": "7704d0b0-b3f3-44b0-dbe1-d57b762adc6a"
      },
      "execution_count": 122,
      "outputs": [
        {
          "output_type": "execute_result",
          "data": {
            "text/plain": [
              "()"
            ]
          },
          "metadata": {},
          "execution_count": 122
        }
      ]
    },
    {
      "cell_type": "code",
      "source": [
        "n=26\n",
        "x = dict()\n",
        "for i in range(n):\n",
        "  x[string.ascii_lowercase[i]]={\n",
        "      string.ascii_lowercase[(j + 1) % n]: [[letters[j]] if j - 2 == i else None]\n",
        "                                            for j in range(n)\n",
        "  }"
      ],
      "metadata": {
        "id": "Q-TKGSC7cH2W"
      },
      "execution_count": 124,
      "outputs": []
    },
    {
      "cell_type": "code",
      "source": [
        "print(x)"
      ],
      "metadata": {
        "colab": {
          "base_uri": "https://localhost:8080/"
        },
        "id": "28CwuTaieCNJ",
        "outputId": "80fc46ab-35eb-490b-c632-02464e6565e3"
      },
      "execution_count": 125,
      "outputs": [
        {
          "output_type": "stream",
          "name": "stdout",
          "text": [
            "{'a': {'b': [None], 'c': [None], 'd': [['C']], 'e': [None], 'f': [None], 'g': [None], 'h': [None], 'i': [None], 'j': [None], 'k': [None], 'l': [None], 'm': [None], 'n': [None], 'o': [None], 'p': [None], 'q': [None], 'r': [None], 's': [None], 't': [None], 'u': [None], 'v': [None], 'w': [None], 'x': [None], 'y': [None], 'z': [None], 'a': [None]}, 'b': {'b': [None], 'c': [None], 'd': [None], 'e': [['D']], 'f': [None], 'g': [None], 'h': [None], 'i': [None], 'j': [None], 'k': [None], 'l': [None], 'm': [None], 'n': [None], 'o': [None], 'p': [None], 'q': [None], 'r': [None], 's': [None], 't': [None], 'u': [None], 'v': [None], 'w': [None], 'x': [None], 'y': [None], 'z': [None], 'a': [None]}, 'c': {'b': [None], 'c': [None], 'd': [None], 'e': [None], 'f': [['E']], 'g': [None], 'h': [None], 'i': [None], 'j': [None], 'k': [None], 'l': [None], 'm': [None], 'n': [None], 'o': [None], 'p': [None], 'q': [None], 'r': [None], 's': [None], 't': [None], 'u': [None], 'v': [None], 'w': [None], 'x': [None], 'y': [None], 'z': [None], 'a': [None]}, 'd': {'b': [None], 'c': [None], 'd': [None], 'e': [None], 'f': [None], 'g': [['F']], 'h': [None], 'i': [None], 'j': [None], 'k': [None], 'l': [None], 'm': [None], 'n': [None], 'o': [None], 'p': [None], 'q': [None], 'r': [None], 's': [None], 't': [None], 'u': [None], 'v': [None], 'w': [None], 'x': [None], 'y': [None], 'z': [None], 'a': [None]}, 'e': {'b': [None], 'c': [None], 'd': [None], 'e': [None], 'f': [None], 'g': [None], 'h': [['G']], 'i': [None], 'j': [None], 'k': [None], 'l': [None], 'm': [None], 'n': [None], 'o': [None], 'p': [None], 'q': [None], 'r': [None], 's': [None], 't': [None], 'u': [None], 'v': [None], 'w': [None], 'x': [None], 'y': [None], 'z': [None], 'a': [None]}, 'f': {'b': [None], 'c': [None], 'd': [None], 'e': [None], 'f': [None], 'g': [None], 'h': [None], 'i': [['H']], 'j': [None], 'k': [None], 'l': [None], 'm': [None], 'n': [None], 'o': [None], 'p': [None], 'q': [None], 'r': [None], 's': [None], 't': [None], 'u': [None], 'v': [None], 'w': [None], 'x': [None], 'y': [None], 'z': [None], 'a': [None]}, 'g': {'b': [None], 'c': [None], 'd': [None], 'e': [None], 'f': [None], 'g': [None], 'h': [None], 'i': [None], 'j': [['I']], 'k': [None], 'l': [None], 'm': [None], 'n': [None], 'o': [None], 'p': [None], 'q': [None], 'r': [None], 's': [None], 't': [None], 'u': [None], 'v': [None], 'w': [None], 'x': [None], 'y': [None], 'z': [None], 'a': [None]}, 'h': {'b': [None], 'c': [None], 'd': [None], 'e': [None], 'f': [None], 'g': [None], 'h': [None], 'i': [None], 'j': [None], 'k': [['J']], 'l': [None], 'm': [None], 'n': [None], 'o': [None], 'p': [None], 'q': [None], 'r': [None], 's': [None], 't': [None], 'u': [None], 'v': [None], 'w': [None], 'x': [None], 'y': [None], 'z': [None], 'a': [None]}, 'i': {'b': [None], 'c': [None], 'd': [None], 'e': [None], 'f': [None], 'g': [None], 'h': [None], 'i': [None], 'j': [None], 'k': [None], 'l': [['K']], 'm': [None], 'n': [None], 'o': [None], 'p': [None], 'q': [None], 'r': [None], 's': [None], 't': [None], 'u': [None], 'v': [None], 'w': [None], 'x': [None], 'y': [None], 'z': [None], 'a': [None]}, 'j': {'b': [None], 'c': [None], 'd': [None], 'e': [None], 'f': [None], 'g': [None], 'h': [None], 'i': [None], 'j': [None], 'k': [None], 'l': [None], 'm': [['L']], 'n': [None], 'o': [None], 'p': [None], 'q': [None], 'r': [None], 's': [None], 't': [None], 'u': [None], 'v': [None], 'w': [None], 'x': [None], 'y': [None], 'z': [None], 'a': [None]}, 'k': {'b': [None], 'c': [None], 'd': [None], 'e': [None], 'f': [None], 'g': [None], 'h': [None], 'i': [None], 'j': [None], 'k': [None], 'l': [None], 'm': [None], 'n': [['M']], 'o': [None], 'p': [None], 'q': [None], 'r': [None], 's': [None], 't': [None], 'u': [None], 'v': [None], 'w': [None], 'x': [None], 'y': [None], 'z': [None], 'a': [None]}, 'l': {'b': [None], 'c': [None], 'd': [None], 'e': [None], 'f': [None], 'g': [None], 'h': [None], 'i': [None], 'j': [None], 'k': [None], 'l': [None], 'm': [None], 'n': [None], 'o': [['N']], 'p': [None], 'q': [None], 'r': [None], 's': [None], 't': [None], 'u': [None], 'v': [None], 'w': [None], 'x': [None], 'y': [None], 'z': [None], 'a': [None]}, 'm': {'b': [None], 'c': [None], 'd': [None], 'e': [None], 'f': [None], 'g': [None], 'h': [None], 'i': [None], 'j': [None], 'k': [None], 'l': [None], 'm': [None], 'n': [None], 'o': [None], 'p': [['O']], 'q': [None], 'r': [None], 's': [None], 't': [None], 'u': [None], 'v': [None], 'w': [None], 'x': [None], 'y': [None], 'z': [None], 'a': [None]}, 'n': {'b': [None], 'c': [None], 'd': [None], 'e': [None], 'f': [None], 'g': [None], 'h': [None], 'i': [None], 'j': [None], 'k': [None], 'l': [None], 'm': [None], 'n': [None], 'o': [None], 'p': [None], 'q': [['P']], 'r': [None], 's': [None], 't': [None], 'u': [None], 'v': [None], 'w': [None], 'x': [None], 'y': [None], 'z': [None], 'a': [None]}, 'o': {'b': [None], 'c': [None], 'd': [None], 'e': [None], 'f': [None], 'g': [None], 'h': [None], 'i': [None], 'j': [None], 'k': [None], 'l': [None], 'm': [None], 'n': [None], 'o': [None], 'p': [None], 'q': [None], 'r': [['Q']], 's': [None], 't': [None], 'u': [None], 'v': [None], 'w': [None], 'x': [None], 'y': [None], 'z': [None], 'a': [None]}, 'p': {'b': [None], 'c': [None], 'd': [None], 'e': [None], 'f': [None], 'g': [None], 'h': [None], 'i': [None], 'j': [None], 'k': [None], 'l': [None], 'm': [None], 'n': [None], 'o': [None], 'p': [None], 'q': [None], 'r': [None], 's': [['R']], 't': [None], 'u': [None], 'v': [None], 'w': [None], 'x': [None], 'y': [None], 'z': [None], 'a': [None]}, 'q': {'b': [None], 'c': [None], 'd': [None], 'e': [None], 'f': [None], 'g': [None], 'h': [None], 'i': [None], 'j': [None], 'k': [None], 'l': [None], 'm': [None], 'n': [None], 'o': [None], 'p': [None], 'q': [None], 'r': [None], 's': [None], 't': [['S']], 'u': [None], 'v': [None], 'w': [None], 'x': [None], 'y': [None], 'z': [None], 'a': [None]}, 'r': {'b': [None], 'c': [None], 'd': [None], 'e': [None], 'f': [None], 'g': [None], 'h': [None], 'i': [None], 'j': [None], 'k': [None], 'l': [None], 'm': [None], 'n': [None], 'o': [None], 'p': [None], 'q': [None], 'r': [None], 's': [None], 't': [None], 'u': [['T']], 'v': [None], 'w': [None], 'x': [None], 'y': [None], 'z': [None], 'a': [None]}, 's': {'b': [None], 'c': [None], 'd': [None], 'e': [None], 'f': [None], 'g': [None], 'h': [None], 'i': [None], 'j': [None], 'k': [None], 'l': [None], 'm': [None], 'n': [None], 'o': [None], 'p': [None], 'q': [None], 'r': [None], 's': [None], 't': [None], 'u': [None], 'v': [['U']], 'w': [None], 'x': [None], 'y': [None], 'z': [None], 'a': [None]}, 't': {'b': [None], 'c': [None], 'd': [None], 'e': [None], 'f': [None], 'g': [None], 'h': [None], 'i': [None], 'j': [None], 'k': [None], 'l': [None], 'm': [None], 'n': [None], 'o': [None], 'p': [None], 'q': [None], 'r': [None], 's': [None], 't': [None], 'u': [None], 'v': [None], 'w': [['V']], 'x': [None], 'y': [None], 'z': [None], 'a': [None]}, 'u': {'b': [None], 'c': [None], 'd': [None], 'e': [None], 'f': [None], 'g': [None], 'h': [None], 'i': [None], 'j': [None], 'k': [None], 'l': [None], 'm': [None], 'n': [None], 'o': [None], 'p': [None], 'q': [None], 'r': [None], 's': [None], 't': [None], 'u': [None], 'v': [None], 'w': [None], 'x': [['W']], 'y': [None], 'z': [None], 'a': [None]}, 'v': {'b': [None], 'c': [None], 'd': [None], 'e': [None], 'f': [None], 'g': [None], 'h': [None], 'i': [None], 'j': [None], 'k': [None], 'l': [None], 'm': [None], 'n': [None], 'o': [None], 'p': [None], 'q': [None], 'r': [None], 's': [None], 't': [None], 'u': [None], 'v': [None], 'w': [None], 'x': [None], 'y': [['X']], 'z': [None], 'a': [None]}, 'w': {'b': [None], 'c': [None], 'd': [None], 'e': [None], 'f': [None], 'g': [None], 'h': [None], 'i': [None], 'j': [None], 'k': [None], 'l': [None], 'm': [None], 'n': [None], 'o': [None], 'p': [None], 'q': [None], 'r': [None], 's': [None], 't': [None], 'u': [None], 'v': [None], 'w': [None], 'x': [None], 'y': [None], 'z': [['Y']], 'a': [None]}, 'x': {'b': [None], 'c': [None], 'd': [None], 'e': [None], 'f': [None], 'g': [None], 'h': [None], 'i': [None], 'j': [None], 'k': [None], 'l': [None], 'm': [None], 'n': [None], 'o': [None], 'p': [None], 'q': [None], 'r': [None], 's': [None], 't': [None], 'u': [None], 'v': [None], 'w': [None], 'x': [None], 'y': [None], 'z': [None], 'a': [['Z']]}, 'y': {'b': [None], 'c': [None], 'd': [None], 'e': [None], 'f': [None], 'g': [None], 'h': [None], 'i': [None], 'j': [None], 'k': [None], 'l': [None], 'm': [None], 'n': [None], 'o': [None], 'p': [None], 'q': [None], 'r': [None], 's': [None], 't': [None], 'u': [None], 'v': [None], 'w': [None], 'x': [None], 'y': [None], 'z': [None], 'a': [None]}, 'z': {'b': [None], 'c': [None], 'd': [None], 'e': [None], 'f': [None], 'g': [None], 'h': [None], 'i': [None], 'j': [None], 'k': [None], 'l': [None], 'm': [None], 'n': [None], 'o': [None], 'p': [None], 'q': [None], 'r': [None], 's': [None], 't': [None], 'u': [None], 'v': [None], 'w': [None], 'x': [None], 'y': [None], 'z': [None], 'a': [None]}}\n"
          ]
        }
      ]
    },
    {
      "cell_type": "code",
      "source": [
        "(x[\"r\"][\"u\"])"
      ],
      "metadata": {
        "colab": {
          "base_uri": "https://localhost:8080/"
        },
        "id": "xjzJ7_NQeNaV",
        "outputId": "a8c5281c-7231-4537-cbea-a5532ca58ad6"
      },
      "execution_count": 156,
      "outputs": [
        {
          "output_type": "execute_result",
          "data": {
            "text/plain": [
              "[['T']]"
            ]
          },
          "metadata": {},
          "execution_count": 156
        }
      ]
    },
    {
      "cell_type": "code",
      "source": [
        "x[\"r\"]"
      ],
      "metadata": {
        "colab": {
          "base_uri": "https://localhost:8080/"
        },
        "id": "k4r3vFMJlQ4T",
        "outputId": "dd52517d-6716-4da8-9cc2-fe29a976ae75"
      },
      "execution_count": 157,
      "outputs": [
        {
          "output_type": "execute_result",
          "data": {
            "text/plain": [
              "{'b': [None],\n",
              " 'c': [None],\n",
              " 'd': [None],\n",
              " 'e': [None],\n",
              " 'f': [None],\n",
              " 'g': [None],\n",
              " 'h': [None],\n",
              " 'i': [None],\n",
              " 'j': [None],\n",
              " 'k': [None],\n",
              " 'l': [None],\n",
              " 'm': [None],\n",
              " 'n': [None],\n",
              " 'o': [None],\n",
              " 'p': [None],\n",
              " 'q': [None],\n",
              " 'r': [None],\n",
              " 's': [None],\n",
              " 't': [None],\n",
              " 'u': [['T']],\n",
              " 'v': [None],\n",
              " 'w': [None],\n",
              " 'x': [None],\n",
              " 'y': [None],\n",
              " 'z': [None],\n",
              " 'a': [None]}"
            ]
          },
          "metadata": {},
          "execution_count": 157
        }
      ]
    },
    {
      "cell_type": "code",
      "source": [],
      "metadata": {
        "id": "mbuQWCQznseU"
      },
      "execution_count": null,
      "outputs": []
    }
  ]
}